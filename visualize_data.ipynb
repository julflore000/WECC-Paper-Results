{
 "cells": [
  {
   "cell_type": "code",
   "execution_count": 1,
   "metadata": {},
   "outputs": [
    {
     "output_type": "error",
     "ename": "ModuleNotFoundError",
     "evalue": "No module named 'matplotlib.pyplot'",
     "traceback": [
      "\u001b[1;31m---------------------------------------------------------------------------\u001b[0m",
      "\u001b[1;31mModuleNotFoundError\u001b[0m                       Traceback (most recent call last)",
      "\u001b[1;32m<ipython-input-1-2d6b16703958>\u001b[0m in \u001b[0;36m<module>\u001b[1;34m\u001b[0m\n\u001b[0;32m      4\u001b[0m \u001b[1;32mfrom\u001b[0m \u001b[0mcollections\u001b[0m \u001b[1;32mimport\u001b[0m \u001b[0mdefaultdict\u001b[0m\u001b[1;33m\u001b[0m\u001b[1;33m\u001b[0m\u001b[0m\n\u001b[0;32m      5\u001b[0m \u001b[1;32mimport\u001b[0m \u001b[0mpandas\u001b[0m \u001b[1;32mas\u001b[0m \u001b[0mpd\u001b[0m\u001b[1;33m\u001b[0m\u001b[1;33m\u001b[0m\u001b[0m\n\u001b[1;32m----> 6\u001b[1;33m \u001b[1;32mimport\u001b[0m \u001b[0mmatplotlib\u001b[0m\u001b[1;33m.\u001b[0m\u001b[0mpyplot\u001b[0m \u001b[1;32mas\u001b[0m \u001b[0mplt\u001b[0m\u001b[1;33m\u001b[0m\u001b[1;33m\u001b[0m\u001b[0m\n\u001b[0m\u001b[0;32m      7\u001b[0m \u001b[1;32mimport\u001b[0m \u001b[0mseaborn\u001b[0m \u001b[1;32mas\u001b[0m \u001b[0msns\u001b[0m\u001b[1;33m;\u001b[0m \u001b[0msns\u001b[0m\u001b[1;33m.\u001b[0m\u001b[0mset\u001b[0m\u001b[1;33m(\u001b[0m\u001b[1;33m)\u001b[0m\u001b[1;33m\u001b[0m\u001b[1;33m\u001b[0m\u001b[0m\n\u001b[0;32m      8\u001b[0m \u001b[1;32mfrom\u001b[0m \u001b[0mgenerate_boundaries_states\u001b[0m \u001b[1;32mimport\u001b[0m \u001b[0mmain\u001b[0m\u001b[1;33m\u001b[0m\u001b[1;33m\u001b[0m\u001b[0m\n",
      "\u001b[1;31mModuleNotFoundError\u001b[0m: No module named 'matplotlib.pyplot'"
     ]
    }
   ],
   "source": [
    "import numpy as np\n",
    "from netCDF4 import Dataset\n",
    "from datetime import date, timedelta\n",
    "from collections import defaultdict\n",
    "import pandas as pd\n",
    "import matplotlib.pyplot as plt\n",
    "import seaborn as sns; sns.set()\n",
    "from generate_boundaries_states import main \n",
    "import sys\n",
    "import os\n",
    "from matplotlib.pyplot import figure\n"
   ]
  },
  {
   "cell_type": "code",
   "execution_count": 2,
   "metadata": {
    "scrolled": false,
    "tags": []
   },
   "outputs": [
    {
     "output_type": "error",
     "ename": "NameError",
     "evalue": "name 'main' is not defined",
     "traceback": [
      "\u001b[1;31m---------------------------------------------------------------------------\u001b[0m",
      "\u001b[1;31mNameError\u001b[0m                                 Traceback (most recent call last)",
      "\u001b[1;32m<ipython-input-2-3a3901841856>\u001b[0m in \u001b[0;36m<module>\u001b[1;34m\u001b[0m\n\u001b[0;32m     36\u001b[0m     \u001b[0mprint\u001b[0m\u001b[1;33m(\u001b[0m\u001b[1;34m\"file already exists for state bounds, not generating new excel file\"\u001b[0m\u001b[1;33m)\u001b[0m\u001b[1;33m\u001b[0m\u001b[1;33m\u001b[0m\u001b[0m\n\u001b[0;32m     37\u001b[0m \u001b[1;32melse\u001b[0m\u001b[1;33m:\u001b[0m\u001b[1;33m\u001b[0m\u001b[1;33m\u001b[0m\u001b[0m\n\u001b[1;32m---> 38\u001b[1;33m     \u001b[0mmain\u001b[0m\u001b[1;33m(\u001b[0m\u001b[0mminLon\u001b[0m\u001b[1;33m,\u001b[0m \u001b[0mmaxLon\u001b[0m\u001b[1;33m,\u001b[0m\u001b[0mminLat\u001b[0m\u001b[1;33m,\u001b[0m \u001b[0mmaxLat\u001b[0m\u001b[1;33m,\u001b[0m\u001b[1;32mTrue\u001b[0m\u001b[1;33m,\u001b[0m\u001b[0mstateList\u001b[0m\u001b[1;33m,\u001b[0m\u001b[0mfileName\u001b[0m\u001b[1;33m)\u001b[0m\u001b[1;33m\u001b[0m\u001b[1;33m\u001b[0m\u001b[0m\n\u001b[0m\u001b[0;32m     39\u001b[0m \u001b[1;33m\u001b[0m\u001b[0m\n\u001b[0;32m     40\u001b[0m \u001b[0mbounds\u001b[0m \u001b[1;33m=\u001b[0m \u001b[0mnp\u001b[0m\u001b[1;33m.\u001b[0m\u001b[0mflip\u001b[0m\u001b[1;33m(\u001b[0m\u001b[0mpd\u001b[0m\u001b[1;33m.\u001b[0m\u001b[0mread_excel\u001b[0m\u001b[1;33m(\u001b[0m\u001b[0mfileName\u001b[0m\u001b[1;33m,\u001b[0m\u001b[0mindex_col\u001b[0m\u001b[1;33m=\u001b[0m\u001b[1;36m0\u001b[0m\u001b[1;33m)\u001b[0m\u001b[1;33m.\u001b[0m\u001b[0mvalues\u001b[0m\u001b[1;33m,\u001b[0m\u001b[0maxis\u001b[0m\u001b[1;33m=\u001b[0m\u001b[1;36m0\u001b[0m\u001b[1;33m)\u001b[0m\u001b[1;33m\u001b[0m\u001b[1;33m\u001b[0m\u001b[0m\n",
      "\u001b[1;31mNameError\u001b[0m: name 'main' is not defined"
     ]
    }
   ],
   "source": [
    "#ENTER the state abreviations for desired state(s) bounds, only looking at WECC\n",
    "\n",
    "#WASHINGTON and oregon bounds are slightly off on the west coast but is due to the values were inputting\n",
    "#Possible states and their respective state abreviations\n",
    "'''\n",
    "Arizonia: AZ\n",
    "California: CA\n",
    "Colorado: CO\n",
    "Idaho: ID\n",
    "Montana: MT\n",
    "New Mexico: NM\n",
    "Nevada: NV\n",
    "Oregon: OR\n",
    "Utah: UT\n",
    "Washington: WA\n",
    "Wyoming: WY\n",
    "\n",
    "if you want to look at all of them for some reason type all\n",
    "'''\n",
    "stateList = ['all']\n",
    "filePathResults = \"california/2016/1_GW_Wind_500_MW_1_Hour_Storage_results.csv\"\n",
    "\n",
    "#reads in raw data from results csv\n",
    "raw_Data = pd.read_csv(filePathResults)\n",
    "\n",
    "\n",
    "maxLat = np.max(raw_Data['latitude'].values)\n",
    "minLat = np.min(raw_Data['latitude'].values)\n",
    "\n",
    "maxLon = np.max(raw_Data['longitude'].values)\n",
    "minLon = np.min(raw_Data['longitude'].values)\n",
    "\n",
    "fileName = \"state_bounds/\" + '_'.join(map(str, stateList))  + \"_state_MERRA_Format_Bounds.xlsx\"\n",
    "\n",
    "if os.path.isfile(fileName):\n",
    "    print(\"file already exists for state bounds, not generating new excel file\")\n",
    "else:\n",
    "    main(minLon, maxLon,minLat, maxLat,True,stateList,fileName)\n",
    "\n",
    "bounds = np.flip(pd.read_excel(fileName,index_col=0).values,axis=0)\n",
    "\n",
    "mainArray = dict()\n",
    "for row in raw_Data.values:\n",
    "    mainArray[row[2],row[3]] = row[1]\n",
    "\n",
    "#creating panda array with lat and long as indices and ELCC as values\n",
    "pandaArray = pd.Series(list(mainArray.values()),\n",
    "                  index=pd.MultiIndex.from_tuples(mainArray.keys()))\n",
    "\n",
    "#filling in any values not in ranges\n",
    "df = pandaArray.unstack().fillna(0)\n",
    "\n",
    "#creating axix for lat and lon values\n",
    "#newYaxis = np.arange(maxLat, minLat-1,-1)\n",
    "#newXaxis= np.arange(minLon,maxLon+1.25,10)\n",
    "\n",
    "#feel free to change color or bounds for axis or bound size(may be out of wack for now)\n",
    "regionArray = np.flip(df.values,axis=0)\n",
    "\n",
    "cleanedRegion = np.where(bounds == 1,regionArray,np.nan)\n",
    "plt.figure(figsize=(7.5,7.5))\n",
    "\n",
    "ax = sns.heatmap(cleanedRegion,annot=True,cbar_kws={'label': 'ELCC (percent of nameplate)'},cmap='plasma')\n",
    "#creating labels\n",
    "plt.yticks([0,9,cleanedRegion.shape[0]-1],[49,40.5,32])\n",
    "plt.xticks([0,7.5,cleanedRegion.shape[1]],[-124.375,-115.625,-106.875])\n",
    "plt.xlabel(\"Longitude\")\n",
    "plt.ylabel(\"Latitude\")\n",
    "plt.show()"
   ]
  },
  {
   "cell_type": "code",
   "execution_count": null,
   "metadata": {},
   "outputs": [],
   "source": []
  }
 ],
 "metadata": {
  "kernelspec": {
   "display_name": "Python 3.7.3 64-bit ('base': conda)",
   "language": "python",
   "name": "python37364bitbaseconda98e29e9bd1224a2ab2fedd2de6edbb31"
  },
  "language_info": {
   "codemirror_mode": {
    "name": "ipython",
    "version": 3
   },
   "file_extension": ".py",
   "mimetype": "text/x-python",
   "name": "python",
   "nbconvert_exporter": "python",
   "pygments_lexer": "ipython3",
   "version": "3.7.3-final"
  }
 },
 "nbformat": 4,
 "nbformat_minor": 2
}